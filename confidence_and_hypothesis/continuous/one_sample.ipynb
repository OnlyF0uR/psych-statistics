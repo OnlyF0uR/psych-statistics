{
 "cells": [
  {
   "cell_type": "code",
   "execution_count": 18,
   "id": "c7baa59b-2f9a-4cce-b387-20ca1fe9e048",
   "metadata": {},
   "outputs": [],
   "source": [
    "from scipy.stats import t, norm\n",
    "import numpy as np"
   ]
  },
  {
   "cell_type": "code",
   "execution_count": 75,
   "id": "c1c73d6e-3955-4eff-b811-67193ca507f0",
   "metadata": {},
   "outputs": [
    {
     "name": "stdout",
     "output_type": "stream",
     "text": [
      "3.92 2.9586483400363752 50\n"
     ]
    }
   ],
   "source": [
    "# Create a random dataset\n",
    "data = np.random.randint(0, 10, 50)\n",
    "\n",
    "mean = np.mean(data)\n",
    "sd = np.std(data)\n",
    "n = np.size(data)\n",
    "\n",
    "print(mean, sd, n)"
   ]
  },
  {
   "cell_type": "markdown",
   "id": "8414cddc-ed25-4992-a4a6-8ce5ee9e9ae7",
   "metadata": {},
   "source": [
    "## Confidence Interval"
   ]
  },
  {
   "cell_type": "code",
   "execution_count": 76,
   "id": "58cede67-043c-4641-ac2d-5acebffbdd97",
   "metadata": {},
   "outputs": [],
   "source": [
    "# H0: μ=5\n",
    "# H1: μ!=5\n",
    "\n",
    "mu = 5\n",
    "confidence = 95 / 100"
   ]
  },
  {
   "cell_type": "code",
   "execution_count": 77,
   "id": "3ad690ed-5c08-41a6-97ef-905800926975",
   "metadata": {},
   "outputs": [
    {
     "name": "stdout",
     "output_type": "stream",
     "text": [
      "2.009575234489209 0.4184160608772086\n"
     ]
    }
   ],
   "source": [
    "# =T.INV(1 - 0.05 / 2; 49)\n",
    "t_value = t.ppf((1 + confidence) / 2, n-1)\n",
    "se = sd / np.sqrt(n)\n",
    "print(t_value, se)"
   ]
  },
  {
   "cell_type": "code",
   "execution_count": 78,
   "id": "937eab73-7456-44e9-8e6a-1f972f2285e3",
   "metadata": {},
   "outputs": [
    {
     "name": "stdout",
     "output_type": "stream",
     "text": [
      "3.0791614463486323 4.760838553651368\n"
     ]
    }
   ],
   "source": [
    "lb = mean - t_value * se\n",
    "ub = mean + t_value * se\n",
    "\n",
    "print(lb, ub)"
   ]
  },
  {
   "cell_type": "code",
   "execution_count": 79,
   "id": "0c90dbf5-e505-400b-acf0-3339214a25b2",
   "metadata": {},
   "outputs": [
    {
     "name": "stdout",
     "output_type": "stream",
     "text": [
      "Reject H0\n"
     ]
    }
   ],
   "source": [
    "if mu < lb or mu > ub:\n",
    "    print(\"Reject H0\")\n",
    "else:\n",
    "    print(\"Do not reject H0\")"
   ]
  },
  {
   "cell_type": "markdown",
   "id": "398c73bf-98b7-44c2-85c7-e1c80226af33",
   "metadata": {},
   "source": [
    "## Hypothesis Testing"
   ]
  },
  {
   "cell_type": "markdown",
   "id": "1bc3accf-c552-4d3c-8da8-33a36bdb3bd0",
   "metadata": {},
   "source": [
    "#### Single Sided"
   ]
  },
  {
   "cell_type": "code",
   "execution_count": 80,
   "id": "096992b1-4fb3-4600-996b-2d2110914ee2",
   "metadata": {},
   "outputs": [],
   "source": [
    "# H0: μ=5\n",
    "# H1: μ<5\n",
    "\n",
    "mu = 5\n",
    "alpha = 0.05"
   ]
  },
  {
   "cell_type": "code",
   "execution_count": 87,
   "id": "22173f86-5a73-4886-8559-6a5315ea3d13",
   "metadata": {},
   "outputs": [
    {
     "name": "stdout",
     "output_type": "stream",
     "text": [
      "-2.581162868690513\n"
     ]
    }
   ],
   "source": [
    "# test statistic\n",
    "se = sd / np.sqrt(n)\n",
    "t_stat = (mean - mu) / se\n",
    "print(t_stat)"
   ]
  },
  {
   "cell_type": "code",
   "execution_count": 82,
   "id": "2cac690d-8ee3-494a-a527-9cdf67592e4b",
   "metadata": {},
   "outputs": [
    {
     "name": "stdout",
     "output_type": "stream",
     "text": [
      "0.006445494554615888\n",
      "Reject H0\n"
     ]
    }
   ],
   "source": [
    "# T-DIST(t, df, TRUE)\n",
    "p = None\n",
    "if t_stat < 0:\n",
    "    p = t.cdf(x=t_stat, df=n-1) # Get left corner (gets x2 later on anyway)\n",
    "else:\n",
    "    p = norm.sf(t_stat, 0, 1) # Get the right corner (gets x2 later on anyway) (Would be the same as 1-t.cdf...)\n",
    "                   \n",
    "print(p)\n",
    "\n",
    "if p < alpha:\n",
    "    # Reject H0, observed mean (mean) is significantly different from mu (H0, thus 5)\n",
    "    print(\"Reject H0\")\n",
    "else:\n",
    "    # Cannot reject H0 on statistical grounds\n",
    "    print(\"Do not reject H0\")"
   ]
  },
  {
   "cell_type": "markdown",
   "id": "9a62fb00-53e4-474d-87e5-a62660107476",
   "metadata": {},
   "source": [
    "#### Double Sided"
   ]
  },
  {
   "cell_type": "code",
   "execution_count": 83,
   "id": "e1ee96c7-3a35-49b3-a295-88ffac60e432",
   "metadata": {},
   "outputs": [],
   "source": [
    "# H0: μ=5\n",
    "# H1: μ!=5\n",
    "\n",
    "# (Using data from single sided)"
   ]
  },
  {
   "cell_type": "code",
   "execution_count": 84,
   "id": "b1d140b2-3cd5-4ec0-95ed-92d0bc53281f",
   "metadata": {},
   "outputs": [
    {
     "name": "stdout",
     "output_type": "stream",
     "text": [
      "0.012890989109231777\n",
      "Reject H0\n"
     ]
    }
   ],
   "source": [
    "p2 = p*2 # (Two sides)\n",
    "print(p2)\n",
    "\n",
    "if p2 < alpha:\n",
    "    print(\"Reject H0\")\n",
    "else:\n",
    "    print(\"Do not reject H0\")"
   ]
  }
 ],
 "metadata": {
  "kernelspec": {
   "display_name": "Python 3 (ipykernel)",
   "language": "python",
   "name": "python3"
  },
  "language_info": {
   "codemirror_mode": {
    "name": "ipython",
    "version": 3
   },
   "file_extension": ".py",
   "mimetype": "text/x-python",
   "name": "python",
   "nbconvert_exporter": "python",
   "pygments_lexer": "ipython3",
   "version": "3.11.5"
  }
 },
 "nbformat": 4,
 "nbformat_minor": 5
}
