{
 "cells": [
  {
   "cell_type": "code",
   "execution_count": 2,
   "id": "c7baa59b-2f9a-4cce-b387-20ca1fe9e048",
   "metadata": {},
   "outputs": [],
   "source": [
    "from scipy.stats import t, norm\n",
    "import numpy as np"
   ]
  },
  {
   "cell_type": "code",
   "execution_count": 50,
   "id": "925c84f9-884f-45ed-b4f2-e6ab577acf46",
   "metadata": {},
   "outputs": [
    {
     "name": "stdout",
     "output_type": "stream",
     "text": [
      "31 19\n",
      "0.38\n"
     ]
    }
   ],
   "source": [
    "data = np.random.randint(0, 2, 50)\n",
    "n = np.size(data)\n",
    "\n",
    "_, counts = np.unique(data, return_counts=True)\n",
    "\n",
    "noughts = counts[0]\n",
    "ones = n - noughts\n",
    "\n",
    "print(noughts, ones)\n",
    "\n",
    "phat = ones / n\n",
    "print(phat)"
   ]
  },
  {
   "cell_type": "markdown",
   "id": "8414cddc-ed25-4992-a4a6-8ce5ee9e9ae7",
   "metadata": {},
   "source": [
    "## Confidence Interval"
   ]
  },
  {
   "cell_type": "code",
   "execution_count": 51,
   "id": "3ad690ed-5c08-41a6-97ef-905800926975",
   "metadata": {},
   "outputs": [],
   "source": [
    "# H0: p=0.5\n",
    "# H1: p!=0.5\n",
    "\n",
    "p_null = 0.5\n",
    "confidence = 95 / 100"
   ]
  },
  {
   "cell_type": "code",
   "execution_count": 52,
   "id": "8c33b73a-9695-422c-ab07-af5d58292aa8",
   "metadata": {},
   "outputs": [
    {
     "name": "stdout",
     "output_type": "stream",
     "text": [
      "1.959963984540054 0.06864400920692205\n"
     ]
    }
   ],
   "source": [
    "# =NORM.INV(1-0.05/2; 0; 1)\n",
    "z_value = norm.ppf((1 + confidence) / 2)\n",
    "se = np.sqrt(phat * (1 - phat) / n)\n",
    "\n",
    "print(z_value, se)"
   ]
  },
  {
   "cell_type": "code",
   "execution_count": 53,
   "id": "8d12dae3-a664-45f3-bf06-302856dc7735",
   "metadata": {},
   "outputs": [
    {
     "name": "stdout",
     "output_type": "stream",
     "text": [
      "0.2454602141999969 0.5145397858000031\n"
     ]
    }
   ],
   "source": [
    "lb = phat - z_value * se\n",
    "ub = phat + z_value * se\n",
    "\n",
    "print(lb, ub)"
   ]
  },
  {
   "cell_type": "code",
   "execution_count": 54,
   "id": "a51833c0-f8fd-4a49-900c-7c822c97838c",
   "metadata": {},
   "outputs": [
    {
     "name": "stdout",
     "output_type": "stream",
     "text": [
      "Do not reject H0\n"
     ]
    }
   ],
   "source": [
    "if p_null < lb or p_null > ub:\n",
    "    print(\"Reject H0\")\n",
    "else:\n",
    "    print(\"Do not reject H0\")"
   ]
  },
  {
   "cell_type": "markdown",
   "id": "398c73bf-98b7-44c2-85c7-e1c80226af33",
   "metadata": {},
   "source": [
    "## Hypothesis Testing"
   ]
  },
  {
   "cell_type": "markdown",
   "id": "176b3788-c23c-46cd-9a56-f491732dce9b",
   "metadata": {},
   "source": [
    "#### Single Sided"
   ]
  },
  {
   "cell_type": "code",
   "execution_count": 55,
   "id": "c566f9de-c09d-4af8-b8f6-96a81772f88e",
   "metadata": {},
   "outputs": [],
   "source": [
    "# H0: p=0.5\n",
    "# H1: p>0.5\n",
    "p_null = 0.5\n",
    "alpha = 0.05"
   ]
  },
  {
   "cell_type": "code",
   "execution_count": 56,
   "id": "7caf7dff-dc69-4384-baa6-c0c003ac507c",
   "metadata": {},
   "outputs": [
    {
     "name": "stdout",
     "output_type": "stream",
     "text": [
      "-1.697056274847714\n"
     ]
    }
   ],
   "source": [
    "se = np.sqrt(p_null*(1-p_null)/n)\n",
    "z_stat = (phat - p_null)/se\n",
    "print(z_stat)"
   ]
  },
  {
   "cell_type": "code",
   "execution_count": 57,
   "id": "75737580-a056-4d77-95d2-ef8279110d1f",
   "metadata": {},
   "outputs": [
    {
     "name": "stdout",
     "output_type": "stream",
     "text": [
      "0.044843010885182284\n"
     ]
    }
   ],
   "source": [
    "if z_stat < 0:\n",
    "    p = norm.cdf(z_stat, 0, 1) # Get left corner\n",
    "else:\n",
    "    p = norm.sf(z_stat, 0, 1) # Get the right corner\n",
    "                   \n",
    "print(p)"
   ]
  },
  {
   "cell_type": "code",
   "execution_count": 58,
   "id": "a59bef60-f23b-440f-99fa-6b8d99b18260",
   "metadata": {},
   "outputs": [
    {
     "name": "stdout",
     "output_type": "stream",
     "text": [
      "Reject H0\n"
     ]
    }
   ],
   "source": [
    "if p < alpha: # Double sided\n",
    "    # Reject H0, observed mean (mean) is significantly different from mu (H0, thus 5)\n",
    "    print(\"Reject H0\")\n",
    "else:\n",
    "    # Cannot reject H0 on statistical grounds\n",
    "    print(\"Do not reject H0\")"
   ]
  },
  {
   "cell_type": "markdown",
   "id": "0745991e-e1c4-480c-83c3-bb3a9d10d00c",
   "metadata": {},
   "source": [
    "#### Double Sided"
   ]
  },
  {
   "cell_type": "code",
   "execution_count": 59,
   "id": "98e78b86-cfdf-47c5-9588-d5bdb6bd17e4",
   "metadata": {},
   "outputs": [],
   "source": [
    "# H0: p = 0.5\n",
    "# H1: p != 0.5"
   ]
  },
  {
   "cell_type": "code",
   "execution_count": 61,
   "id": "71e956fe-fb2e-47c1-9518-6b065639dd38",
   "metadata": {},
   "outputs": [
    {
     "name": "stdout",
     "output_type": "stream",
     "text": [
      "0.08968602177036457\n",
      "Do not reject H0\n"
     ]
    }
   ],
   "source": [
    "p2 = p*2\n",
    "print(p2)\n",
    "\n",
    "if p2 < alpha: # Double sided\n",
    "    # Reject H0, observed mean (mean) is significantly different from mu (H0, thus 5)\n",
    "    print(\"Reject H0\")\n",
    "else:\n",
    "    # Cannot reject H0 on statistical grounds\n",
    "    print(\"Do not reject H0\")"
   ]
  }
 ],
 "metadata": {
  "kernelspec": {
   "display_name": "Python 3 (ipykernel)",
   "language": "python",
   "name": "python3"
  },
  "language_info": {
   "codemirror_mode": {
    "name": "ipython",
    "version": 3
   },
   "file_extension": ".py",
   "mimetype": "text/x-python",
   "name": "python",
   "nbconvert_exporter": "python",
   "pygments_lexer": "ipython3",
   "version": "3.11.5"
  }
 },
 "nbformat": 4,
 "nbformat_minor": 5
}
