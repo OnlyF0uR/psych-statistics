{
 "cells": [
  {
   "cell_type": "code",
   "execution_count": 23,
   "id": "9793e739-07f9-4822-98fa-01bd3e52efab",
   "metadata": {},
   "outputs": [],
   "source": [
    "data = (0, 2, 4, 6, 2, 3, 9, 15, 92, 12, 55, 68, 90)\n",
    "buf = list(data) # copy data for later use\n",
    "\n",
    "cmp_data = (16, 34, 11, 65, 6, 59, 46, 7, 39, 15, 65, 66, 33)\n",
    "cmp_buf = list(cmp_data) # copy cmp_data for later use"
   ]
  },
  {
   "cell_type": "markdown",
   "id": "2006774f-aabf-41ac-ae77-7eba6c33fff9",
   "metadata": {},
   "source": [
    "### Mean"
   ]
  },
  {
   "cell_type": "code",
   "execution_count": 24,
   "id": "1ebfe7c6-9172-4e61-bfe8-b0729f78a542",
   "metadata": {},
   "outputs": [
    {
     "name": "stdout",
     "output_type": "stream",
     "text": [
      "27.53846153846154\n"
     ]
    }
   ],
   "source": [
    "mean = sum(data) / len(data)\n",
    "print(mean)"
   ]
  },
  {
   "cell_type": "markdown",
   "id": "5d4456c5-094d-491e-af75-ff01760b0c9d",
   "metadata": {},
   "source": [
    "### Variance & SD"
   ]
  },
  {
   "cell_type": "code",
   "execution_count": 25,
   "id": "188765a7-ad8c-409b-b084-e128c6443546",
   "metadata": {},
   "outputs": [
    {
     "name": "stdout",
     "output_type": "stream",
     "text": [
      "1239.4358974358972\n"
     ]
    }
   ],
   "source": [
    "# (x - mean) ** 2 for each observation\n",
    "for i in range(len(buf)):\n",
    "    buf[i] = (buf[i] - mean) ** 2\n",
    "\n",
    "# sum of (x - mean) ** 2\n",
    "sum_of_squared_deviations = sum(buf)\n",
    "\n",
    "# variance (sum_of_squared_deviations / n - 1)\n",
    "variance = sum_of_squared_deviations / (len(buf) - 1)\n",
    "print(variance)"
   ]
  },
  {
   "cell_type": "code",
   "execution_count": 26,
   "id": "32542c7f-b546-44b9-9ef6-cc028ff0464b",
   "metadata": {},
   "outputs": [
    {
     "name": "stdout",
     "output_type": "stream",
     "text": [
      "35.20562309398738\n"
     ]
    }
   ],
   "source": [
    "# sd\n",
    "standard_deviation = variance ** 0.5\n",
    "print(standard_deviation)"
   ]
  },
  {
   "cell_type": "markdown",
   "id": "6f499a46-853b-43c9-a3ab-798795e119bd",
   "metadata": {},
   "source": [
    "### Z-Scores"
   ]
  },
  {
   "cell_type": "code",
   "execution_count": 27,
   "id": "aa6645e4-45ae-45a5-a4f2-c22199114eb2",
   "metadata": {},
   "outputs": [
    {
     "name": "stdout",
     "output_type": "stream",
     "text": [
      "[-0.7822177004208376, -0.7254085936863633, -0.6685994869518891, -0.6117903802174149, -0.7254085936863633, -0.6970040403191262, -0.5265767201157036, -0.35614939991228084, 1.831001209364977, -0.44136306001399217, 0.7800327347772039, 1.1492919285512864, 1.774192102630503]\n"
     ]
    }
   ],
   "source": [
    "# z-score = (x - mean) / standard_deviation\n",
    "for i in range(len(data)):\n",
    "    buf[i] = (data[i] - mean) / standard_deviation\n",
    "\n",
    "print(buf)"
   ]
  },
  {
   "cell_type": "markdown",
   "id": "c70ee1f2-57bb-4c92-ac68-1fb32a4103c7",
   "metadata": {},
   "source": [
    "### Mean + Variance & SD + Z-Scores Second Dataset"
   ]
  },
  {
   "cell_type": "code",
   "execution_count": 28,
   "id": "2c96417d-4e6f-41ab-98ac-8b47e32ec345",
   "metadata": {},
   "outputs": [
    {
     "name": "stdout",
     "output_type": "stream",
     "text": [
      "35.53846153846154\n"
     ]
    }
   ],
   "source": [
    "# mean of second dataset\n",
    "cmp_mean = sum(cmp_data) / len(cmp_data)\n",
    "print(cmp_mean)"
   ]
  },
  {
   "cell_type": "code",
   "execution_count": 29,
   "id": "88b18195-3f79-4d98-af20-3635a8ef6407",
   "metadata": {},
   "outputs": [
    {
     "name": "stdout",
     "output_type": "stream",
     "text": [
      "536.4358974358973\n"
     ]
    }
   ],
   "source": [
    "# variance for second dataset\n",
    "for i in range(len(cmp_buf)):\n",
    "    cmp_buf[i] = (cmp_buf[i] - cmp_mean) ** 2\n",
    "\n",
    "cmp_sum_of_squared_deviations = sum(cmp_buf)\n",
    "\n",
    "cmp_variance = cmp_sum_of_squared_deviations / (len(cmp_buf) - 1)\n",
    "print(cmp_variance)"
   ]
  },
  {
   "cell_type": "code",
   "execution_count": 30,
   "id": "4dca812a-627d-49ae-ac6e-c38ae90bffbd",
   "metadata": {},
   "outputs": [
    {
     "name": "stdout",
     "output_type": "stream",
     "text": [
      "23.16108584319607\n"
     ]
    }
   ],
   "source": [
    "# sd for second dataset\n",
    "cmp_standard_deviation = cmp_variance ** 0.5\n",
    "print(cmp_standard_deviation)"
   ]
  },
  {
   "cell_type": "code",
   "execution_count": 31,
   "id": "79d6e276-52d5-4b59-a17b-fcd3d25a2e19",
   "metadata": {},
   "outputs": [
    {
     "name": "stdout",
     "output_type": "stream",
     "text": [
      "[-0.8435900488750733, -0.06642441329724993, -1.0594693920911353, 1.2720275146423348, -1.2753487353071973, 1.0129723027830604, 0.45168601042129897, -1.232172866663985, 0.14945492991881212, -0.8867659175182857, 1.2720275146423348, 1.3152033832855472, -0.10960028194046234]\n"
     ]
    }
   ],
   "source": [
    "# z-scores for second dataset\n",
    "for i in range(len(cmp_data)):\n",
    "    cmp_buf[i] = (cmp_data[i] - cmp_mean) / cmp_standard_deviation\n",
    "\n",
    "print(cmp_buf)"
   ]
  },
  {
   "cell_type": "markdown",
   "id": "f9f4b4d6-b626-48df-b3a4-5cbc2fec03fd",
   "metadata": {},
   "source": [
    "### Correlation"
   ]
  },
  {
   "cell_type": "code",
   "execution_count": 32,
   "id": "0d62464f-b953-4a8a-a6d6-0392328e6ad3",
   "metadata": {},
   "outputs": [
    {
     "name": "stdout",
     "output_type": "stream",
     "text": [
      "\n",
      "Correlation: 0.3360547910719122 (indicates positive association)\n"
     ]
    }
   ],
   "source": [
    "# sum(z1 * z2) / n - 1\n",
    "sum_z1_z2 = 0\n",
    "for i in range(len(buf)):\n",
    "    sum_z1_z2 += buf[i] * cmp_buf[i]\n",
    "\n",
    "correlation = sum_z1_z2 / (len(buf) - 1) # or (1 / (len(buf) - 1)) * sum_z1_z2\n",
    "if correlation > 0:\n",
    "    print(\"\\nCorrelation: \" + str(correlation) + \" (indicates positive association)\")\n",
    "elif correlation < 0:\n",
    "    print(\"\\nCorrelation: \" + str(correlation) + \" (indicates negative association)\")\n",
    "else:\n",
    "    print(\"\\nCorrelation: \" + str(correlation) + \" (indicates no association)\")"
   ]
  }
 ],
 "metadata": {
  "kernelspec": {
   "display_name": "Python 3 (ipykernel)",
   "language": "python",
   "name": "python3"
  },
  "language_info": {
   "codemirror_mode": {
    "name": "ipython",
    "version": 3
   },
   "file_extension": ".py",
   "mimetype": "text/x-python",
   "name": "python",
   "nbconvert_exporter": "python",
   "pygments_lexer": "ipython3",
   "version": "3.11.5"
  }
 },
 "nbformat": 4,
 "nbformat_minor": 5
}
