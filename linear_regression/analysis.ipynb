{
 "cells": [
  {
   "cell_type": "code",
   "execution_count": 21,
   "id": "0459564c-dd31-4387-ae7d-0be8c763700b",
   "metadata": {},
   "outputs": [],
   "source": [
    "library(readxl)"
   ]
  },
  {
   "cell_type": "code",
   "execution_count": 189,
   "id": "ae79e84e-a7f2-4b9d-8113-d777b3ff2496",
   "metadata": {},
   "outputs": [
    {
     "data": {
      "text/html": [
       "<table class=\"dataframe\">\n",
       "<caption>A tibble: 2 × 2</caption>\n",
       "<thead>\n",
       "\t<tr><th scope=col>x</th><th scope=col>y</th></tr>\n",
       "\t<tr><th scope=col>&lt;dbl&gt;</th><th scope=col>&lt;dbl&gt;</th></tr>\n",
       "</thead>\n",
       "<tbody>\n",
       "\t<tr><td>13</td><td>55</td></tr>\n",
       "\t<tr><td>13</td><td>60</td></tr>\n",
       "</tbody>\n",
       "</table>\n"
      ],
      "text/latex": [
       "A tibble: 2 × 2\n",
       "\\begin{tabular}{ll}\n",
       " x & y\\\\\n",
       " <dbl> & <dbl>\\\\\n",
       "\\hline\n",
       "\t 13 & 55\\\\\n",
       "\t 13 & 60\\\\\n",
       "\\end{tabular}\n"
      ],
      "text/markdown": [
       "\n",
       "A tibble: 2 × 2\n",
       "\n",
       "| x &lt;dbl&gt; | y &lt;dbl&gt; |\n",
       "|---|---|\n",
       "| 13 | 55 |\n",
       "| 13 | 60 |\n",
       "\n"
      ],
      "text/plain": [
       "  x  y \n",
       "1 13 55\n",
       "2 13 60"
      ]
     },
     "metadata": {},
     "output_type": "display_data"
    }
   ],
   "source": [
    "# Import dataframe\n",
    "raw_data <- read_excel('data.xlsx', sheet = 'Sheet1')\n",
    "\n",
    "head(df, 2)"
   ]
  },
  {
   "cell_type": "code",
   "execution_count": 190,
   "id": "6710aa25-2f91-4975-9a44-fbf15ba7c13d",
   "metadata": {},
   "outputs": [
    {
     "name": "stdout",
     "output_type": "stream",
     "text": [
      "\n",
      "Call:\n",
      "lm(formula = y ~ x, data = df)\n",
      "\n",
      "Residuals:\n",
      "    Min      1Q  Median      3Q     Max \n",
      "-16.101  -5.805   1.542   7.114  15.899 \n",
      "\n",
      "Coefficients:\n",
      "            Estimate Std. Error t value Pr(>|t|)    \n",
      "(Intercept)  36.0812     5.7083   6.321 0.000396 ***\n",
      "x             1.3367     0.2145   6.232 0.000432 ***\n",
      "---\n",
      "Signif. codes:  0 '***' 0.001 '**' 0.01 '*' 0.05 '.' 0.1 ' ' 1\n",
      "\n",
      "Residual standard error: 11.38 on 7 degrees of freedom\n",
      "Multiple R-squared:  0.8473,\tAdjusted R-squared:  0.8255 \n",
      "F-statistic: 38.84 on 1 and 7 DF,  p-value: 0.0004315\n",
      "\n"
     ]
    }
   ],
   "source": [
    "# Create a new data frame with standardized variables, optional\n",
    "#df <- data.frame(std_x = scale(raw_data$x), std_y = scale(raw_data$y))\n",
    "df <- data.frame(raw_data)\n",
    "\n",
    "#x_values <- df$std_x\n",
    "#y_values <- df$std_y\n",
    "x_values <- df$x\n",
    "y_values <- df$y\n",
    "\n",
    "# Fit the regression model using standardized variables\n",
    "#model <- lm(std_y ~ std_x, data = df)\n",
    "model <- lm(y ~ x, data = df)\n",
    "\n",
    "# View the model summary\n",
    "summary_model <- summary(model)\n",
    "print(summary_model)"
   ]
  },
  {
   "cell_type": "code",
   "execution_count": 191,
   "id": "44570fb6-0006-4645-84b9-03184f376640",
   "metadata": {},
   "outputs": [
    {
     "data": {
      "text/html": [
       "0.920488085489863"
      ],
      "text/latex": [
       "0.920488085489863"
      ],
      "text/markdown": [
       "0.920488085489863"
      ],
      "text/plain": [
       "[1] 0.9204881"
      ]
     },
     "metadata": {},
     "output_type": "display_data"
    }
   ],
   "source": [
    "mean_x <- mean(x_values)\n",
    "mean_y <- mean(y_values)\n",
    "\n",
    "sx <- sd(x_values)\n",
    "sy <- sd(y_values)\n",
    "\n",
    "corr <- cor(x_values, y_values)\n",
    "corr"
   ]
  },
  {
   "cell_type": "code",
   "execution_count": 192,
   "id": "8ded018a-08ab-4f53-af1c-a698923fdadc",
   "metadata": {},
   "outputs": [],
   "source": [
    "# a + bx\n",
    "\n",
    "# b = r * (sy/sx)\n",
    "linear.b <- corr * (sy / sx)\n",
    "# a = mean_y - b * mean_x\n",
    "linear.a <- mean_y - linear.b * mean_x"
   ]
  },
  {
   "cell_type": "code",
   "execution_count": 193,
   "id": "4edba058-e9cb-45e9-80f1-e47f6d338150",
   "metadata": {},
   "outputs": [
    {
     "name": "stdout",
     "output_type": "stream",
     "text": [
      "Total Sum of Squares (SST): 5936 \n",
      "Residual Sum of Squares (SSE): 906.4372 \n",
      "Regression Sum of Squares (SSR): 5029.563 \n",
      "[1] 0.8473\n",
      "Coefficient of Determination (R^2): 0.8473 \n"
     ]
    }
   ],
   "source": [
    "# SST (Total Sum of Squares)\n",
    "sst <- sum((y_values - mean_y)^2)\n",
    "\n",
    "# SSE (Residual Sum of Squares)\n",
    "predicted_y <- linear.a + linear.b * x_values\n",
    "sse <- sum((y_values - predicted_y)^2)\n",
    "\n",
    "# SSR (Regression Sum of Squares)\n",
    "ssr <- sst - sse\n",
    "\n",
    "# R-squared\n",
    "r_squared_direct <- ssr / sst\n",
    "\n",
    "# Print results with rounded values\n",
    "cat(\"Total Sum of Squares (SST):\", round(sst, 4), \"\\n\")\n",
    "cat(\"Residual Sum of Squares (SSE):\", round(sse, 4), \"\\n\")\n",
    "cat(\"Regression Sum of Squares (SSR):\", round(ssr, 4), \"\\n\")\n",
    "\n",
    "# Print correlation coefficient squared and R-squared\n",
    "print(corr^2, digits = 4)\n",
    "cat(\"Coefficient of Determination (R^2):\", round(r_squared_direct, 4), \"\\n\")"
   ]
  },
  {
   "cell_type": "code",
   "execution_count": 194,
   "id": "965536dc-f958-4d91-9bf4-a41e35a63907",
   "metadata": {},
   "outputs": [
    {
     "data": {
      "image/png": "[encoded data removed]",
      "text/plain": [
       "plot without title"
      ]
     },
     "metadata": {
      "image/png": {
       "height": 420,
       "width": 420
      }
     },
     "output_type": "display_data"
    }
   ],
   "source": [
    "library(ggplot2)\n",
    "\n",
    "ggplot(df, aes(x = x, y = y)) +\n",
    "  geom_point() +\n",
    "  geom_abline(intercept = linear.a, slope = linear.b, linetype = \"dashed\", color = \"blue\") +\n",
    "  geom_hline(yintercept = mean_y, linetype = \"dashed\", color = \"red\") +  # Line the the mean\n",
    "  labs(x = \"X values\", y = \"Y values\", title = \"Scatter Plot of X and Y\")"
   ]
  },
  {
   "cell_type": "code",
   "execution_count": 212,
   "id": "fee70f45-b357-4be8-b6a4-61ff581751ad",
   "metadata": {},
   "outputs": [],
   "source": [
    "n <- length(x_values)\n",
    "deg_f <- n - 2"
   ]
  },
  {
   "cell_type": "code",
   "execution_count": 213,
   "id": "1c12a641-4252-4646-8d14-26788de3ff7b",
   "metadata": {},
   "outputs": [],
   "source": [
    "#se <- summary_model$coefficients[, \"Std. Error\"][\"std_x\"]\n",
    "se <- summary_model$coefficients[, \"Std. Error\"][\"x\"]\n",
    "\n",
    "# b = summary_model$coefficients[, \"Estimate\"][\"x\"]"
   ]
  },
  {
   "cell_type": "code",
   "execution_count": 214,
   "id": "e9425972-8d55-40a5-bdb6-6702dcd823c3",
   "metadata": {},
   "outputs": [
    {
     "name": "stdout",
     "output_type": "stream",
     "text": [
      "t-statistic: 6.232256 \n"
     ]
    }
   ],
   "source": [
    "t_statistic = (linear.b - 0) / se\n",
    "cat(\"t-statistic:\", t_statistic, \"\\n\")"
   ]
  },
  {
   "cell_type": "code",
   "execution_count": 217,
   "id": "b7a90b7b-e304-44a8-b11f-83addba97d7a",
   "metadata": {},
   "outputs": [
    {
     "name": "stdout",
     "output_type": "stream",
     "text": [
      "lower bound: 0.9874528 \n",
      "upper bound: 1.685951 \n",
      "P Value: 0.0004315097 \n",
      "Reject H0: TRUE \n"
     ]
    }
   ],
   "source": [
    "# Confidence Interval (95%)\n",
    "t_critical <- qt(1 - 0.05 / 2, df = deg_f)\n",
    "lb <- linear.b - t_critical * standard_errors[\"std_x\"]\n",
    "ub <- linear.b + t_critical * standard_errors[\"std_x\"]\n",
    "\n",
    "cat(\"lower bound:\", lb, \"\\n\")\n",
    "cat(\"upper bound:\", ub, \"\\n\")\n",
    "\n",
    "# Hypothesis Test (alpha = 0.05)\n",
    "# H0: 𝛽 = 0 vs HA: 𝛽 ≠ 0\n",
    "p = (1 - pt(t_statistic, df = deg_f)) * 2\n",
    "cat(\"P Value:\", p, \"\\n\")\n",
    "cat(\"Reject H0:\", p < 0.05, \"\\n\")"
   ]
  }
 ],
 "metadata": {
  "kernelspec": {
   "display_name": "R",
   "language": "R",
   "name": "ir"
  },
  "language_info": {
   "codemirror_mode": "r",
   "file_extension": ".r",
   "mimetype": "text/x-r-source",
   "name": "R",
   "pygments_lexer": "r",
   "version": "4.3.2"
  }
 },
 "nbformat": 4,
 "nbformat_minor": 5
}
